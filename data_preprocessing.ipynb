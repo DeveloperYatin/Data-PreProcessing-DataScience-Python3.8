{
 "cells": [
  {
   "cell_type": "code",
   "execution_count": 1,
   "metadata": {},
   "outputs": [],
   "source": [
    "# Importing libraries\n",
    "\n",
    "import numpy as np\n",
    "#import matplotlib.pyplot as mtp\n",
    "import pandas as pd"
   ]
  },
  {
   "cell_type": "code",
   "execution_count": 2,
   "metadata": {},
   "outputs": [],
   "source": [
    "#importing datasets\n",
    "\n",
    "data_set = pd .read_csv('Data.csv')"
   ]
  },
  {
   "cell_type": "code",
   "execution_count": 3,
   "metadata": {},
   "outputs": [],
   "source": [
    "#Extracting independent variable\n",
    "\n",
    "x = data_set.iloc[:,:-1].values\n",
    "\n",
    "#Extracting dependent variable\n",
    "\n",
    "y = data_set.iloc[:,3].values"
   ]
  },
  {
   "cell_type": "code",
   "execution_count": 4,
   "metadata": {},
   "outputs": [],
   "source": [
    "#Handling missing data (Replacing missing data with the mean value)\n",
    "\n",
    "from sklearn.impute import SimpleImputer\n",
    "\n",
    "imputer = SimpleImputer(missing_values=np.nan,strategy='mean')"
   ]
  },
  {
   "cell_type": "code",
   "execution_count": 5,
   "metadata": {},
   "outputs": [],
   "source": [
    "#Fitting imputer object to the independent variables x.\n",
    "imputerimputer = imputer.fit(x[:,1:3])\n",
    "\n",
    "#Replacing missing data with the calculated mean value \n",
    "x[:,1:3] = imputer.transform(x[:,1:3])"
   ]
  },
  {
   "cell_type": "code",
   "execution_count": 6,
   "metadata": {},
   "outputs": [],
   "source": [
    "#Catgorical data\n",
    "# for Country variable \n",
    "\n",
    "from sklearn.preprocessing import LabelEncoder, OneHotEncoder\n",
    "from sklearn.compose import ColumnTransformer\n",
    "\n",
    "lable_encoder_x = LabelEncoder()\n",
    "\n",
    "x[:,0] = lable_encoder_x.fit_transform(x[:,0])"
   ]
  },
  {
   "cell_type": "code",
   "execution_count": 7,
   "metadata": {},
   "outputs": [],
   "source": [
    "#Encoding for dummy variable\n",
    "\n",
    "ct = ColumnTransformer(transformers=[(\"Country\",OneHotEncoder(),[0])],remainder = 'passthrough')\n",
    "\n",
    "x = np.array(ct.fit_transform(x),dtype = np.float)"
   ]
  },
  {
   "cell_type": "code",
   "execution_count": 8,
   "metadata": {},
   "outputs": [],
   "source": [
    "#Encoding for purchased variable \n",
    "\n",
    "labelencoder_y = LabelEncoder()\n",
    "\n",
    "y = labelencoder_y.fit_transform(y)"
   ]
  },
  {
   "cell_type": "code",
   "execution_count": 9,
   "metadata": {},
   "outputs": [],
   "source": [
    "#Splitting the dataset into training and test set\n",
    "\n",
    "from sklearn.model_selection import train_test_split\n",
    "\n",
    "x_train,x_test,y_train,y_test = train_test_split(x,y,test_size=0.2,random_state=0)"
   ]
  },
  {
   "cell_type": "code",
   "execution_count": 11,
   "metadata": {},
   "outputs": [],
   "source": [
    "#Feature Scaling of datasets\n",
    "\n",
    "from sklearn.preprocessing import StandardScaler\n",
    "\n",
    "st_x = StandardScaler()\n",
    "\n",
    "x_train = st_x.fit_transform(x_train)\n",
    "\n",
    "x_test = st_x.transform(x_test)\n"
   ]
  },
  {
   "cell_type": "code",
   "execution_count": 12,
   "metadata": {},
   "outputs": [
    {
     "name": "stdout",
     "output_type": "stream",
     "text": [
      "[[-1.          1.73205081 -0.57735027 -2.41578041 -0.90681902]\n",
      " [-1.         -0.57735027  1.73205081  1.82656568  2.24643804]]\n"
     ]
    }
   ],
   "source": [
    "print(x_test)"
   ]
  },
  {
   "cell_type": "code",
   "execution_count": 13,
   "metadata": {},
   "outputs": [
    {
     "name": "stdout",
     "output_type": "stream",
     "text": [
      "[[-1.          1.73205081 -0.57735027 -0.29460737  0.1339619 ]\n",
      " [ 1.         -0.57735027 -0.57735027 -0.93095928  1.22626663]\n",
      " [ 1.         -0.57735027 -0.57735027  0.34174455 -1.74150472]\n",
      " [-1.          1.73205081 -0.57735027 -0.05892147 -0.99956188]\n",
      " [ 1.         -0.57735027 -0.57735027  1.61444837  1.41175234]\n",
      " [ 1.         -0.57735027 -0.57735027  1.40233107  0.11335238]\n",
      " [-1.         -0.57735027  1.73205081 -0.71884198  0.39158094]\n",
      " [-1.         -0.57735027  1.73205081 -1.35519389 -0.5358476 ]]\n",
      "[0 0]\n",
      "[1 1 1 0 1 0 0 1]\n"
     ]
    }
   ],
   "source": [
    "print(x_train)\n",
    "print(y_test)\n",
    "print(y_train)"
   ]
  },
  {
   "cell_type": "code",
   "execution_count": 14,
   "metadata": {},
   "outputs": [
    {
     "name": "stdout",
     "output_type": "stream",
     "text": [
      "   Country   Age   Salary Purchased\n",
      "0    India  38.0  68000.0        No\n",
      "1   France  43.0  45000.0       Yes\n",
      "2  Germany  30.0  54000.0        No\n",
      "3   France  48.0  65000.0        No\n",
      "4  Germany  40.0      NaN       Yes\n",
      "5    India  35.0  58000.0       Yes\n",
      "6  Germany   NaN  53000.0        No\n",
      "7   France  49.0  79000.0       Yes\n",
      "8    India  50.0  88000.0        No\n",
      "9   France  37.0  77000.0       Yes\n"
     ]
    }
   ],
   "source": [
    "print(data_set)"
   ]
  },
  {
   "cell_type": "code",
   "execution_count": 15,
   "metadata": {},
   "outputs": [
    {
     "name": "stdout",
     "output_type": "stream",
     "text": [
      "[[0.00000000e+00 0.00000000e+00 1.00000000e+00 3.80000000e+01\n",
      "  6.80000000e+04]\n",
      " [1.00000000e+00 0.00000000e+00 0.00000000e+00 4.30000000e+01\n",
      "  4.50000000e+04]\n",
      " [0.00000000e+00 1.00000000e+00 0.00000000e+00 3.00000000e+01\n",
      "  5.40000000e+04]\n",
      " [1.00000000e+00 0.00000000e+00 0.00000000e+00 4.80000000e+01\n",
      "  6.50000000e+04]\n",
      " [0.00000000e+00 1.00000000e+00 0.00000000e+00 4.00000000e+01\n",
      "  6.52222222e+04]\n",
      " [0.00000000e+00 0.00000000e+00 1.00000000e+00 3.50000000e+01\n",
      "  5.80000000e+04]\n",
      " [0.00000000e+00 1.00000000e+00 0.00000000e+00 4.11111111e+01\n",
      "  5.30000000e+04]\n",
      " [1.00000000e+00 0.00000000e+00 0.00000000e+00 4.90000000e+01\n",
      "  7.90000000e+04]\n",
      " [0.00000000e+00 0.00000000e+00 1.00000000e+00 5.00000000e+01\n",
      "  8.80000000e+04]\n",
      " [1.00000000e+00 0.00000000e+00 0.00000000e+00 3.70000000e+01\n",
      "  7.70000000e+04]]\n",
      "[0 1 0 0 1 1 0 1 0 1]\n"
     ]
    }
   ],
   "source": [
    "print(x)\n",
    "print(y)"
   ]
  },
  {
   "cell_type": "code",
   "execution_count": null,
   "metadata": {},
   "outputs": [],
   "source": []
  }
 ],
 "metadata": {
  "kernelspec": {
   "display_name": "Python 3",
   "language": "python",
   "name": "python3"
  },
  "language_info": {
   "codemirror_mode": {
    "name": "ipython",
    "version": 3
   },
   "file_extension": ".py",
   "mimetype": "text/x-python",
   "name": "python",
   "nbconvert_exporter": "python",
   "pygments_lexer": "ipython3",
   "version": "3.8.2"
  }
 },
 "nbformat": 4,
 "nbformat_minor": 4
}
